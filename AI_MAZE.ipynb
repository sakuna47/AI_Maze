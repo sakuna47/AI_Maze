{
  "nbformat": 4,
  "nbformat_minor": 0,
  "metadata": {
    "colab": {
      "provenance": [],
      "authorship_tag": "ABX9TyPSBscIRY0p2rTJWsoMQCXJ",
      "include_colab_link": true
    },
    "kernelspec": {
      "name": "python3",
      "display_name": "Python 3"
    },
    "language_info": {
      "name": "python"
    }
  },
  "cells": [
    {
      "cell_type": "markdown",
      "metadata": {
        "id": "view-in-github",
        "colab_type": "text"
      },
      "source": [
        "<a href=\"https://colab.research.google.com/github/sakuna47/AI_Maze/blob/Code/AI_MAZE.ipynb\" target=\"_parent\"><img src=\"https://colab.research.google.com/assets/colab-badge.svg\" alt=\"Open In Colab\"/></a>"
      ]
    },
    {
      "cell_type": "code",
      "execution_count": null,
      "metadata": {
        "id": "_zZtbKAG7hQb"
      },
      "outputs": [],
      "source": [
        "import random  # For random selection of start, goal, and barriers\n",
        "import math  # For calculating diagonal costs (sqrt(2))\n",
        "import heapq  # For priority queue in UCS and A* search\n",
        "import statistics  # For calculating mean and variance in analysis\n",
        "from collections import deque  # For BFS in solvability check"
      ]
    },
    {
      "cell_type": "code",
      "source": [
        "# Convert a node number (0-35) to (x, y) coordinates in a 6x6 grid\n",
        "# x = node % 6 (column), y = node // 6 (row)\n",
        "# Example: Node 15 -> (x=2, y=3)\n",
        "def get_coordinates(node):\n",
        "    return (node % 6, node // 6)\n"
      ],
      "metadata": {
        "id": "r-RMffDx7xCV"
      },
      "execution_count": null,
      "outputs": []
    },
    {
      "cell_type": "code",
      "source": [
        "# Get valid neighbors of a node with their edge costs\n",
        "# Neighbors are in 8 directions: horizontal, vertical, diagonal\n",
        "# Barriers block movement; neighbors are sorted by node number for deterministic exploration\n",
        "def get_neighbors(node, barriers):\n",
        "    x, y = get_coordinates(node)  # Get current node's coordinates\n",
        "    # Define 8 possible directions: up, down, left, right, and diagonals\n",
        "    directions = [(-1, 0), (1, 0), (0, -1), (0, 1), (-1, -1), (-1, 1), (1, -1), (1, 1)]\n",
        "    neighbors = []\n",
        "    for dx, dy in directions:\n",
        "        new_x, new_y = x + dx, y + dy  # Calculate neighbor's coordinates\n",
        "        # Check if the neighbor is within the 6x6 grid\n",
        "        if 0 <= new_x < 6 and 0 <= new_y < 6:\n",
        "            neighbor = new_y * 6 + new_x  # Convert coordinates back to node number\n",
        "            if neighbor not in barriers:  # Exclude barriers\n",
        "                # Cost is 1 for horizontal/vertical moves, sqrt(2) for diagonal moves\n",
        "                cost = 1 if dx == 0 or dy == 0 else math.sqrt(2)\n",
        "                neighbors.append((neighbor, cost))\n",
        "    # Sort neighbors by node number to ensure consistent exploration order\n",
        "    # Example: For node 8, neighbors should be processed as 2, 7, 9, 14\n",
        "    neighbors.sort(key=lambda x: x[0])\n",
        "    return neighbors"
      ],
      "metadata": {
        "id": "VSmaJReH91Wd"
      },
      "execution_count": null,
      "outputs": []
    },
    {
      "cell_type": "code",
      "source": [
        "\n",
        "# Use BFS to check if a path exists between start and goal nodes\n",
        "# Ensures the maze is solvable before proceeding with search algorithms\n",
        "def is_solvable(start, goal, barriers):\n",
        "    visited = set()  # Track visited nodes\n",
        "    queue = deque([start])  # Queue for BFS\n",
        "    visited.add(start)\n",
        "    while queue:\n",
        "        node = queue.popleft()  # Process the next node\n",
        "        if node == goal:  # Path found\n",
        "            return True\n",
        "        # Explore neighbors of the current node\n",
        "        for neighbor, _ in get_neighbors(node, barriers):\n",
        "            if neighbor not in visited:\n",
        "                visited.add(neighbor)\n",
        "                queue.append(neighbor)\n",
        "    return False  # No path found"
      ],
      "metadata": {
        "id": "5vN2a-vN-WKn"
      },
      "execution_count": null,
      "outputs": []
    },
    {
      "cell_type": "code",
      "source": [
        "# Task 1: Set up a 6x6 maze with random start, goal, and barriers\n",
        "# Start node: 0-11, Goal node: 24-35, Barriers: 4 random nodes\n",
        "# Ensures the maze is solvable using BFS\n",
        "def setup_maze():\n",
        "    while True:\n",
        "        start = random.randint(0, 11)  # Random start node from 0-11\n",
        "        goal = random.randint(24, 35)  # Random goal node from 24-35\n",
        "        # Get remaining nodes (excluding start and goal) for barrier selection\n",
        "        remaining = [i for i in range(36) if i != start and i != goal]\n",
        "        barriers = random.sample(remaining, 4)  # Select 4 barriers\n",
        "        # Check if a path exists from start to goal\n",
        "        if is_solvable(start, goal, barriers):\n",
        "            return start, goal, barriers"
      ],
      "metadata": {
        "id": "EJOSMZHB-gVt"
      },
      "execution_count": null,
      "outputs": []
    },
    {
      "cell_type": "code",
      "source": [
        "# Task 2: Uniform Cost Search (UCS) to find the shortest path\n",
        "# Uses a priority queue to explore nodes by lowest path cost\n",
        "# Outputs visited nodes, time (nodes explored), and final path\n",
        "def uniform_cost_search(start, goal, barriers):\n",
        "    # Priority queue: (cost, node, path)\n",
        "    queue = [(0, start, [start])]\n",
        "    visited = set()  # Track visited nodes\n",
        "    while queue:\n",
        "        cost, node, path = heapq.heappop(queue)  # Get node with lowest cost\n",
        "        if node in visited:  # Skip if already visited\n",
        "            continue\n",
        "        visited.add(node)  # Mark node as visited\n",
        "        if node == goal:  # Goal reached\n",
        "            return list(visited), len(visited), path\n",
        "        # Explore neighbors of the current node\n",
        "        for neighbor, edge_cost in get_neighbors(node, barriers):\n",
        "            if neighbor not in visited:\n",
        "                new_cost = cost + edge_cost  # Update path cost\n",
        "                new_path = path + [neighbor]  # Extend path\n",
        "                heapq.heappush(queue, (new_cost, neighbor, new_path))\n",
        "    # No path found (shouldn't happen due to solvability check)\n",
        "    return list(visited), len(visited), []"
      ],
      "metadata": {
        "id": "MQXb0cDvhAPn"
      },
      "execution_count": null,
      "outputs": []
    },
    {
      "cell_type": "code",
      "source": [
        "\n",
        "# Task 3: Calculate Chebyshev Distance heuristic for A* search\n",
        "# Formula: max(|Nx - Gx|, |Ny - Gy|)\n",
        "# Used to estimate the remaining distance to the goal\n",
        "def chebyshev_distance(node, goal):\n",
        "    x1, y1 = get_coordinates(node)  # Current node's coordinates\n",
        "    x2, y2 = get_coordinates(goal)  # Goal node's coordinates\n",
        "    return max(abs(x1 - x2), abs(y1 - y2))  # Chebyshev Distance"
      ],
      "metadata": {
        "id": "bHteTcAwge3X"
      },
      "execution_count": null,
      "outputs": []
    },
    {
      "cell_type": "code",
      "source": [
        "# Task 4: A* Search to find the shortest path\n",
        "# Combines path cost (g) and heuristic (h) to guide the search\n",
        "# Outputs visited nodes, time (nodes explored), and final path\n",
        "def a_star_search(start, goal, barriers):\n",
        "    # Priority queue: (f, g, node, path), where f = g + h\n",
        "    queue = [(chebyshev_distance(start, goal), 0, start, [start])]\n",
        "    visited = set()  # Track visited nodes\n",
        "    while queue:\n",
        "        _, g_cost, node, path = heapq.heappop(queue)  # Get node with lowest f\n",
        "        if node in visited:  # Skip if already visited\n",
        "            continue\n",
        "        visited.add(node)  # Mark node as visited\n",
        "        if node == goal:  # Goal reached\n",
        "            return list(visited), len(visited), path\n",
        "        # Explore neighbors of the current node\n",
        "        for neighbor, edge_cost in get_neighbors(node, barriers):\n",
        "            if neighbor not in visited:\n",
        "                new_g = g_cost + edge_cost  # Update path cost (g)\n",
        "                h = chebyshev_distance(neighbor, goal)  # Heuristic cost (h)\n",
        "                new_path = path + [neighbor]  # Extend path\n",
        "                heapq.heappush(queue, (new_g + h, new_g, neighbor, new_path))\n",
        "    # No path found (shouldn't happen due to solvability check)\n",
        "    return list(visited), len(visited), []"
      ],
      "metadata": {
        "id": "IJwuSq0xraGR"
      },
      "execution_count": 22,
      "outputs": []
    },
    {
      "cell_type": "code",
      "source": [
        "# Visualize the maze with node numbers, barriers, start, goal, and path\n",
        "# Not required by coursework but useful for debugging and presentation\n",
        "def visualize_maze(start, goal, barriers, path):\n",
        "    # Initialize a 6x6 grid with node numbers\n",
        "    grid = [['.' for _ in range(6)] for _ in range(6)]\n",
        "    for node in range(36):\n",
        "        x, y = get_coordinates(node)\n",
        "        grid[y][x] = str(node).zfill(2)  # Format node number (e.g., \"08\")\n",
        "    # Mark barriers\n",
        "    for b in barriers:\n",
        "        x, y = get_coordinates(b)\n",
        "        grid[y][x] = 'XX'  # Represent barriers\n",
        "    # Mark start and goal\n",
        "    x, y = get_coordinates(start)\n",
        "    grid[y][x] = 'SS'  # Start node\n",
        "    x, y = get_coordinates(goal)\n",
        "    grid[y][x] = 'GG'  # Goal node\n",
        "    # Mark the path (excluding start and goal)\n",
        "    for node in path[1:-1]:\n",
        "        x, y = get_coordinates(node)\n",
        "        grid[y][x] = '**'  # Path nodes\n",
        "    # Print the grid\n",
        "    for row in grid:\n",
        "        print(' '.join(row))"
      ],
      "metadata": {
        "id": "RVoncDqCroa-"
      },
      "execution_count": 20,
      "outputs": []
    },
    {
      "cell_type": "code",
      "source": [
        "# Task 5: Run experiments on three random mazes\n",
        "# For each maze, perform UCS and A* search, and collect results\n",
        "def run_experiments():\n",
        "    results = []  # Store results for analysis\n",
        "    for i in range(3):\n",
        "        print(f\"\\nMaze {i+1}\")\n",
        "        # Set up a new random maze\n",
        "        start, goal, barriers = setup_maze()\n",
        "        print(f\"Start: {start}, Goal: {goal}, Barriers: {barriers}\")\n",
        "\n",
        "        # Perform UCS\n",
        "        ucs_visited, ucs_time, ucs_path = uniform_cost_search(start, goal, barriers)\n",
        "        print(f\"UCS - Visited: {sorted(ucs_visited)}, Time: {ucs_time} mins, Path: {ucs_path}\")\n",
        "        print(\"UCS Visualization:\")\n",
        "        visualize_maze(start, goal, barriers, ucs_path)\n",
        "\n",
        "        # Perform A*\n",
        "        astar_visited, astar_time, astar_path = a_star_search(start, goal, barriers)\n",
        "        print(f\"A* - Visited: {sorted(astar_visited)}, Time: {astar_time} mins, Path: {astar_path}\")\n",
        "        print(\"A* Visualization:\")\n",
        "        visualize_maze(start, goal, barriers, astar_path)\n",
        "\n",
        "        # Store metrics for analysis\n",
        "        results.append({\n",
        "            'ucs_time': ucs_time,\n",
        "            'ucs_path_len': len(ucs_path) - 1 if ucs_path else 0,  # Path length excludes start\n",
        "            'astar_time': astar_time,\n",
        "            'astar_path_len': len(astar_path) - 1 if astar_path else 0\n",
        "        })\n",
        "    return results"
      ],
      "metadata": {
        "id": "4KgT0uudsYMA"
      },
      "execution_count": 19,
      "outputs": []
    },
    {
      "cell_type": "code",
      "source": [
        "# Analyze the performance of UCS and A* across the three mazes\n",
        "# Compute mean and variance of time and path length, and provide theoretical analysis\n",
        "def analyze_results(results):\n",
        "    # Extract metrics for UCS and A*\n",
        "    ucs_times = [r['ucs_time'] for r in results]\n",
        "    ucs_paths = [r['ucs_path_len'] for r in results]\n",
        "    astar_times = [r['astar_time'] for r in results]\n",
        "    astar_paths = [r['astar_path_len'] for r in results]\n",
        "\n",
        "    # Print performance metrics in a table\n",
        "    print(\"\\nPerformance Analysis:\")\n",
        "    print(\"| Metric            | UCS Mean | UCS Variance | A* Mean | A* Variance |\")\n",
        "    print(\"|-------------------|----------|--------------|---------|-------------|\")\n",
        "    print(f\"| Time (mins)       | {statistics.mean(ucs_times):.2f}    | {statistics.variance(ucs_times):.2f}         | {statistics.mean(astar_times):.2f}   | {statistics.variance(astar_times):.2f}        |\")\n",
        "    print(f\"| Path Length       | {statistics.mean(ucs_paths):.2f}     | {statistics.variance(ucs_paths):.2f}         | {statistics.mean(astar_paths):.2f}    | {statistics.variance(astar_paths):.2f}        |\")\n",
        "\n",
        "    # Theoretical analysis of both algorithms\n",
        "    print(\"\\nTheoretical Analysis:\")\n",
        "    for algo, times, paths in [('UCS', ucs_times, ucs_paths), ('A*', astar_times, astar_paths)]:\n",
        "        print(f\"{algo}:\")\n",
        "        print(f\"  Completeness: Yes (finite 6×6 maze with 36 nodes)\")\n",
        "        print(f\"  Optimality: Yes ({'cost-based exploration' if algo == 'UCS' else 'admissible and consistent heuristic'})\")\n",
        "        print(f\"  Time Complexity: O(b^d), b ≈ 6, d ≈ {min(paths)}-{max(paths)}\")\n",
        "        print(f\"  Space Complexity: O(b^d) due to priority queue storing up to {max(times)} nodes\")\n",
        "        print(f\"  Variance Analysis: {'Low variance' if statistics.variance(times) < 1 else 'Higher variance'} ({statistics.variance(times):.2f}) indicates {'stable' if statistics.variance(times) < 1 else 'variable'} performance across mazes\")\n",
        "\n",
        "# Main execution: Run experiments and analyze results\n",
        "results = run_experiments()\n",
        "analyze_results(results)"
      ],
      "metadata": {
        "id": "BP0YGDQHsmxx",
        "colab": {
          "base_uri": "https://localhost:8080/"
        },
        "outputId": "d25d5f67-bcfd-4c6d-af1a-a8c2deeaed44"
      },
      "execution_count": 23,
      "outputs": [
        {
          "output_type": "stream",
          "name": "stdout",
          "text": [
            "\n",
            "Maze 1\n",
            "Start: 8, Goal: 26, Barriers: [2, 12, 19, 23]\n",
            "UCS - Visited: [0, 1, 3, 4, 6, 7, 8, 9, 10, 11, 13, 14, 15, 16, 18, 20, 21, 22, 26], Time: 19 mins, Path: [8, 14, 20, 26]\n",
            "UCS Visualization:\n",
            "00 01 XX 03 04 05\n",
            "06 07 SS 09 10 11\n",
            "XX 13 ** 15 16 17\n",
            "18 XX ** 21 22 XX\n",
            "24 25 GG 27 28 29\n",
            "30 31 32 33 34 35\n",
            "A* - Visited: [8, 14, 20, 26], Time: 4 mins, Path: [8, 14, 20, 26]\n",
            "A* Visualization:\n",
            "00 01 XX 03 04 05\n",
            "06 07 SS 09 10 11\n",
            "XX 13 ** 15 16 17\n",
            "18 XX ** 21 22 XX\n",
            "24 25 GG 27 28 29\n",
            "30 31 32 33 34 35\n",
            "\n",
            "Maze 2\n",
            "Start: 11, Goal: 26, Barriers: [27, 14, 13, 8]\n",
            "UCS - Visited: [2, 3, 4, 5, 9, 10, 11, 15, 16, 17, 20, 21, 22, 23, 26, 28, 29, 35], Time: 18 mins, Path: [11, 16, 21, 26]\n",
            "UCS Visualization:\n",
            "00 01 02 03 04 05\n",
            "06 07 XX 09 10 SS\n",
            "12 XX XX 15 ** 17\n",
            "18 19 20 ** 22 23\n",
            "24 25 GG XX 28 29\n",
            "30 31 32 33 34 35\n",
            "A* - Visited: [10, 11, 16, 17, 21, 26], Time: 6 mins, Path: [11, 16, 21, 26]\n",
            "A* Visualization:\n",
            "00 01 02 03 04 05\n",
            "06 07 XX 09 10 SS\n",
            "12 XX XX 15 ** 17\n",
            "18 19 20 ** 22 23\n",
            "24 25 GG XX 28 29\n",
            "30 31 32 33 34 35\n",
            "\n",
            "Maze 3\n",
            "Start: 6, Goal: 29, Barriers: [31, 13, 10, 35]\n",
            "UCS - Visited: [0, 1, 2, 3, 4, 5, 6, 7, 8, 9, 11, 12, 14, 15, 16, 17, 18, 19, 20, 21, 22, 23, 24, 25, 26, 27, 28, 29, 30, 32, 33], Time: 31 mins, Path: [6, 7, 8, 15, 22, 29]\n",
            "UCS Visualization:\n",
            "00 01 02 03 04 05\n",
            "SS ** ** 09 XX 11\n",
            "12 XX 14 ** 16 17\n",
            "18 19 20 21 ** 23\n",
            "24 25 26 27 28 GG\n",
            "30 XX 32 33 34 XX\n",
            "A* - Visited: [0, 1, 6, 7, 8, 9, 12, 14, 15, 21, 22, 28, 29], Time: 13 mins, Path: [6, 7, 8, 15, 22, 29]\n",
            "A* Visualization:\n",
            "00 01 02 03 04 05\n",
            "SS ** ** 09 XX 11\n",
            "12 XX 14 ** 16 17\n",
            "18 19 20 21 ** 23\n",
            "24 25 26 27 28 GG\n",
            "30 XX 32 33 34 XX\n",
            "\n",
            "Performance Analysis:\n",
            "| Metric            | UCS Mean | UCS Variance | A* Mean | A* Variance |\n",
            "|-------------------|----------|--------------|---------|-------------|\n",
            "| Time (mins)       | 22.67    | 52.33         | 7.67   | 22.33        |\n",
            "| Path Length       | 3.67     | 1.33         | 3.67    | 1.33        |\n",
            "\n",
            "Theoretical Analysis:\n",
            "UCS:\n",
            "  Completeness: Yes (finite 6×6 maze with 36 nodes)\n",
            "  Optimality: Yes (cost-based exploration)\n",
            "  Time Complexity: O(b^d), b ≈ 6, d ≈ 3-5\n",
            "  Space Complexity: O(b^d) due to priority queue storing up to 31 nodes\n",
            "  Variance Analysis: Higher variance (52.33) indicates variable performance across mazes\n",
            "A*:\n",
            "  Completeness: Yes (finite 6×6 maze with 36 nodes)\n",
            "  Optimality: Yes (admissible and consistent heuristic)\n",
            "  Time Complexity: O(b^d), b ≈ 6, d ≈ 3-5\n",
            "  Space Complexity: O(b^d) due to priority queue storing up to 13 nodes\n",
            "  Variance Analysis: Higher variance (22.33) indicates variable performance across mazes\n"
          ]
        }
      ]
    }
  ]
}