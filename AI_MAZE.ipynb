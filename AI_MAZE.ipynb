{
  "nbformat": 4,
  "nbformat_minor": 0,
  "metadata": {
    "colab": {
      "provenance": [],
      "authorship_tag": "ABX9TyOTfwNhOvzIxogiaP+acSnI",
      "include_colab_link": true
    },
    "kernelspec": {
      "name": "python3",
      "display_name": "Python 3"
    },
    "language_info": {
      "name": "python"
    }
  },
  "cells": [
    {
      "cell_type": "markdown",
      "metadata": {
        "id": "view-in-github",
        "colab_type": "text"
      },
      "source": [
        "<a href=\"https://colab.research.google.com/github/sakuna47/AI_Maze/blob/Code/AI_MAZE.ipynb\" target=\"_parent\"><img src=\"https://colab.research.google.com/assets/colab-badge.svg\" alt=\"Open In Colab\"/></a>"
      ]
    },
    {
      "cell_type": "code",
      "execution_count": 1,
      "metadata": {
        "id": "_zZtbKAG7hQb"
      },
      "outputs": [],
      "source": [
        "import random  # For random selection of start, goal, and barriers\n",
        "import math  # For calculating diagonal costs (sqrt(2))\n",
        "import heapq  # For priority queue in UCS and A* search\n",
        "import statistics  # For calculating mean and variance in analysis\n",
        "from collections import deque  # For BFS in solvability check"
      ]
    },
    {
      "cell_type": "code",
      "source": [
        "# Convert a node number (0-35) to (x, y) coordinates in a 6x6 grid\n",
        "# x = node % 6 (column), y = node // 6 (row)\n",
        "# Example: Node 15 -> (x=2, y=3)\n",
        "def get_coordinates(node):\n",
        "    return (node % 6, node // 6)\n"
      ],
      "metadata": {
        "id": "r-RMffDx7xCV"
      },
      "execution_count": 2,
      "outputs": []
    },
    {
      "cell_type": "code",
      "source": [
        "# Get valid neighbors of a node with their edge costs\n",
        "# Neighbors are in 8 directions: horizontal, vertical, diagonal\n",
        "# Barriers block movement; neighbors are sorted by node number for deterministic exploration\n",
        "def get_neighbors(node, barriers):\n",
        "    x, y = get_coordinates(node)  # Get current node's coordinates\n",
        "    # Define 8 possible directions: up, down, left, right, and diagonals\n",
        "    directions = [(-1, 0), (1, 0), (0, -1), (0, 1), (-1, -1), (-1, 1), (1, -1), (1, 1)]\n",
        "    neighbors = []\n",
        "    for dx, dy in directions:\n",
        "        new_x, new_y = x + dx, y + dy  # Calculate neighbor's coordinates\n",
        "        # Check if the neighbor is within the 6x6 grid\n",
        "        if 0 <= new_x < 6 and 0 <= new_y < 6:\n",
        "            neighbor = new_y * 6 + new_x  # Convert coordinates back to node number\n",
        "            if neighbor not in barriers:  # Exclude barriers\n",
        "                # Cost is 1 for horizontal/vertical moves, sqrt(2) for diagonal moves\n",
        "                cost = 1 if dx == 0 or dy == 0 else math.sqrt(2)\n",
        "                neighbors.append((neighbor, cost))\n",
        "    # Sort neighbors by node number to ensure consistent exploration order\n",
        "    # Example: For node 8, neighbors should be processed as 2, 7, 9, 14\n",
        "    neighbors.sort(key=lambda x: x[0])\n",
        "    return neighbors"
      ],
      "metadata": {
        "id": "VSmaJReH91Wd"
      },
      "execution_count": 3,
      "outputs": []
    },
    {
      "cell_type": "code",
      "source": [
        "\n",
        "# Use BFS to check if a path exists between start and goal nodes\n",
        "# Ensures the maze is solvable before proceeding with search algorithms\n",
        "def is_solvable(start, goal, barriers):\n",
        "    visited = set()  # Track visited nodes\n",
        "    queue = deque([start])  # Queue for BFS\n",
        "    visited.add(start)\n",
        "    while queue:\n",
        "        node = queue.popleft()  # Process the next node\n",
        "        if node == goal:  # Path found\n",
        "            return True\n",
        "        # Explore neighbors of the current node\n",
        "        for neighbor, _ in get_neighbors(node, barriers):\n",
        "            if neighbor not in visited:\n",
        "                visited.add(neighbor)\n",
        "                queue.append(neighbor)\n",
        "    return False  # No path found"
      ],
      "metadata": {
        "id": "5vN2a-vN-WKn"
      },
      "execution_count": 4,
      "outputs": []
    },
    {
      "cell_type": "code",
      "source": [
        "# Task 1: Set up a 6x6 maze with random start, goal, and barriers\n",
        "# Start node: 0-11, Goal node: 24-35, Barriers: 4 random nodes\n",
        "# Ensures the maze is solvable using BFS\n",
        "def setup_maze():\n",
        "    while True:\n",
        "        start = random.randint(0, 11)  # Random start node from 0-11\n",
        "        goal = random.randint(24, 35)  # Random goal node from 24-35\n",
        "        # Get remaining nodes (excluding start and goal) for barrier selection\n",
        "        remaining = [i for i in range(36) if i != start and i != goal]\n",
        "        barriers = random.sample(remaining, 4)  # Select 4 barriers\n",
        "        # Check if a path exists from start to goal\n",
        "        if is_solvable(start, goal, barriers):\n",
        "            return start, goal, barriers"
      ],
      "metadata": {
        "id": "EJOSMZHB-gVt"
      },
      "execution_count": 5,
      "outputs": []
    },
    {
      "cell_type": "code",
      "source": [
        "\n",
        "# Task 3: Calculate Chebyshev Distance heuristic for A* search\n",
        "# Formula: max(|Nx - Gx|, |Ny - Gy|)\n",
        "# Used to estimate the remaining distance to the goal\n",
        "def chebyshev_distance(node, goal):\n",
        "    x1, y1 = get_coordinates(node)  # Current node's coordinates\n",
        "    x2, y2 = get_coordinates(goal)  # Goal node's coordinates\n",
        "    return max(abs(x1 - x2), abs(y1 - y2))  # Chebyshev Distance"
      ],
      "metadata": {
        "id": "bHteTcAwge3X"
      },
      "execution_count": 6,
      "outputs": []
    }
  ]
}