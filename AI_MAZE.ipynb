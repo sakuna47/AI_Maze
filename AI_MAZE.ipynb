{
  "nbformat": 4,
  "nbformat_minor": 0,
  "metadata": {
    "colab": {
      "provenance": [],
      "authorship_tag": "ABX9TyNBvDtkRaX+r4LON6rYM1W9",
      "include_colab_link": true
    },
    "kernelspec": {
      "name": "python3",
      "display_name": "Python 3"
    },
    "language_info": {
      "name": "python"
    }
  },
  "cells": [
    {
      "cell_type": "markdown",
      "metadata": {
        "id": "view-in-github",
        "colab_type": "text"
      },
      "source": [
        "<a href=\"https://colab.research.google.com/github/sakuna47/AI_Maze/blob/Code/AI_MAZE.ipynb\" target=\"_parent\"><img src=\"https://colab.research.google.com/assets/colab-badge.svg\" alt=\"Open In Colab\"/></a>"
      ]
    },
    {
      "cell_type": "code",
      "execution_count": 1,
      "metadata": {
        "id": "_zZtbKAG7hQb"
      },
      "outputs": [],
      "source": [
        "import random  # For random selection of start, goal, and barriers\n",
        "import math  # For calculating diagonal costs (sqrt(2))\n",
        "import heapq  # For priority queue in UCS and A* search\n",
        "import statistics  # For calculating mean and variance in analysis\n",
        "from collections import deque  # For BFS in solvability check"
      ]
    },
    {
      "cell_type": "code",
      "source": [],
      "metadata": {
        "id": "r-RMffDx7xCV"
      },
      "execution_count": null,
      "outputs": []
    }
  ]
}